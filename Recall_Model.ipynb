{
 "cells": [
  {
   "cell_type": "code",
   "execution_count": 1,
   "metadata": {},
   "outputs": [
    {
     "name": "stdout",
     "output_type": "stream",
     "text": [
      "Populating the interactive namespace from numpy and matplotlib\n"
     ]
    }
   ],
   "source": [
    "# 开户时间：2017-01-01——2017-05-31\n",
    "# 全量数据人数：246901\n",
    "# 开单人数：2790\n",
    "\n",
    "import pandas as pd \n",
    "from pandas import DataFrame\n",
    "import json\n",
    "import time\n",
    "from datetime import date\n",
    "import re\n",
    "import numpy as np\n",
    "import matplotlib.pyplot as plt\n",
    "import seaborn as sns\n",
    "%pylab inline\n",
    "sns.set_style('whitegrid')\n",
    "import sys\n",
    "reload(sys)\n",
    "sys.setdefaultencoding('utf8') \n",
    "\n",
    "import matplotlib as mpl\n",
    "mpl.rcParams['font.sans-serif'] = ['Microsoft YaHei'] #指定默认字体  \n",
    "mpl.rcParams['axes.unicode_minus'] = False # 解决保存图像是负号'-'显示为方块的问题\n",
    "# sns.axes_style()，可以看到是否成功设定字体为微软雅黑。\n"
   ]
  },
  {
   "cell_type": "markdown",
   "metadata": {
    "collapsed": true
   },
   "source": [
    "##概率名单\n",
    "select t1.user_name as user_name, t1.userid as userid, t1.firm_id as firm_id,  t1.partner_id as partner_id, t2.highvaluepro as  highvaluepro\n",
    "from(\n",
    "    select distinct user_name, userid, firm_id,  'pmec' as partner_id\n",
    "    from silver_ep.tb_silver_account_v\n",
    "    where (insert_time >= '2017-01-01' and insert_time <= '2017-05-31') and (partner_id = 'pmec')) t1\n",
    "left join(\n",
    "    select distinct urs as user_name,pmec_highvaluepro as highvaluepro\n",
    "    from mining_ep.tb_feature\n",
    ")t2 on t1.user_name = t2.user_name\n",
    "\n",
    "union\n",
    "\n",
    "select t1.user_name as user_name, t1.userid as userid, t1.firm_id as firm_id,  t1.partner_id as partner_id, t2.highvaluepro as  highvaluepro\n",
    "from(\n",
    "    select distinct user_name, userid, firm_id,  'hht' as partner_id\n",
    "    from silver_ep.tb_silver_account_v\n",
    "    where (insert_time >= '2017-01-01' and insert_time <= '2017-05-31') and (partner_id = 'hht')) t1\n",
    "left join(\n",
    "    select distinct urs as user_name,hht_highvaluepro as highvaluepro\n",
    "    from mining_ep.tb_feature\n",
    ")t2 on t1.user_name = t2.user_name"
   ]
  },
  {
   "cell_type": "markdown",
   "metadata": {
    "collapsed": true
   },
   "source": [
    "##最高历史净入金\n",
    "select aa.user_name as user_name, max(aa.cum_amountin) as history_most \n",
    "from( \n",
    "\t--历史累计金额\n",
    "\tselect t4.user_name as user_name, t4.userid as userid, \n",
    "\t   t4.realdate as realdate, t4.inorout as inorout, t4.inoutmoney as inoutmoney,\n",
    "       sum(if(t4.inorout='A',t4.inoutmoney,-t4.inoutmoney)) over (partition by t4.user_name order by t4.realdate) as cum_amountin  \n",
    "\tfrom(\n",
    "        select t1.user_name as user_name, t1.userid as userid,\n",
    "               t3.realdate as realdate, t3.inorout as inorout, t3.inoutmoney as inoutmoney \n",
    "        from (-- 获得开户用户在pmec的firm_id等\n",
    "            select distinct user_name, userid, firm_id, partner_id\n",
    "            from silver_ep.tb_silver_account_v\n",
    "            where (insert_time >= '2017-01-01' and insert_time <= '2017-05-31') and (partner_id = 'pmec'))t1  \n",
    "        left join(\n",
    "             select firm_id,realdate, inorout, inoutmoney    \n",
    "             from silver_ep.history_transfer_v \n",
    "             where partnerid ='pmec'\n",
    "        )t3 on t1.firm_id = t3.firm_id \n",
    "\n",
    "        union\n",
    "\t\n",
    "        -- 获得开户用户在hht的入金情况\n",
    "        select t1.user_name as user_name, t1.userid as userid,\n",
    "               t3.realdate as realdate, t3.inorout as inorout, t3.inoutmoney as inoutmoney\n",
    "        from (\n",
    "            --用户开户表silver_ep.tb_silver_account_v,获得开户用户在hht的firm_id\n",
    "             select distinct user_name, userid, firm_id,  partner_id\n",
    "            from silver_ep.tb_silver_account_v\n",
    "            where (insert_time >= '2017-01-01' and insert_time <= '2017-05-31') and (partner_id = 'hht')) t1 \n",
    "        left join(\n",
    "             select firm_id,realdate, inorout, inoutmoney    \n",
    "             from silver_ep.history_transfer_v \n",
    "             where partnerid ='hht'\n",
    "        )t3 on t1.firm_id = t3.firm_id \n",
    " \t)t4\n",
    ")aa\n",
    "group by aa.user_name "
   ]
  },
  {
   "cell_type": "markdown",
   "metadata": {
    "collapsed": true
   },
   "source": [
    "##自然入金\n",
    "select aa.user_name as user_name, aa.inorout as inorout, sum(aa.inoutmoney) as inoutmoney\n",
    "from\n",
    "(--pmec的第一通有效电话时间，与第一通有效电话前的入金情况\n",
    "select t1.user_name as user_name, t1.userid as userid, \n",
    "       t3.create_time as create_time,\n",
    "       t4.realdate as realdate, t4.inorout as inorout, t4.inoutmoney as inoutmoney\n",
    "from(\n",
    "\t-- 用户开户预测概率表,得到pmec的firm_id\n",
    "\tselect distinct user_name, userid, firm_id, partner_id\n",
    "    from silver_ep.tb_silver_account_v\n",
    "    where (insert_time >= '2017-01-01' and insert_time <= '2017-05-31') and (partner_id = 'pmec'))t1\n",
    "left join(\n",
    "\t-- 客户关系管理表\n",
    "\tselect crm_user_id, user_id\n",
    "\tfrom silver_ep.tb_crm_user_v\n",
    ")t2 on t1.userid = t2.user_id\n",
    "left join(\n",
    "\t-- 投顾给某一用户拨打电话的最早时间\n",
    "\tselect t.crm_user_id as crm_user_id, min(t.create_time) as create_time\n",
    "\tfrom (\n",
    "\tselect crm_user_id,create_time,worksec\n",
    "\tfrom silver_ep.tb_crm_tel_record_v\n",
    "\twhere crm_user_id is not null and crm_user_id <> -1 and worksec > 30\n",
    "\torder by crm_user_id, create_time asc)t\n",
    "\tgroup by t.crm_user_id\n",
    ")t3 on t2.crm_user_id = t3.crm_user_id\n",
    "left join(                                                                                                                                                                                                                                                                                                                                                                                                                                                                                                                                                                                                                                                                                                                                                                                                                                                                                                                                                                                                                                                                                                                                                                                                                                                                                                                                                                                                                                                                                                                                                                                                                                                                                                                                                                                                                                                                                                                                                                                                                                                                                                                                                                                                                                                                                                                                                                                                                                                                                                                                                                                                                                                                                                                                                                                                                                                                                                                                                                                                                                                                                                                                                                                                                                                                                                                                                                                                                                                                                                                                                                                                                                                                                                                                                                                                                                                                                                                                                                                                                                                                                                                                                                                                                                                                                                                                                                                                                                                                                                                                                                                                                                                                                                                                                                                                                                                                                                                                                                                                                                                                                                                                                                                                                                                                                                                                         \n",
    "\t\t-- 用户出入金情况表\n",
    "\t\tselect firm_id, inorout, inoutmoney, realdate\n",
    "\t\tfrom silver_ep.history_transfer_v\n",
    "\t\twhere partnerid = 'pmec'\n",
    ")t4 on t1.firm_id = t4.firm_id \n",
    "where (t3.create_time > t4.realdate or t3.create_time is null)\n",
    "\n",
    "union\n",
    "--hht的第一通有效电话时间，与第一通有效电话前的入金情况\n",
    "select t1.user_name as user_name, t1.userid as userid, \n",
    "       t3.create_time as create_time,\n",
    "       t4.realdate as realdate, t4.inorout as inorout, t4.inoutmoney as inoutmoney\n",
    "from(\n",
    "\t-- 用户开户预测概率表,得到hht的firm_id\n",
    "       select distinct user_name, userid, firm_id,  partner_id\n",
    "        from silver_ep.tb_silver_account_v\n",
    "        where (insert_time >= '2017-01-01' and insert_time <= '2017-05-31') and (partner_id = 'hht'))t1\n",
    "left join(\n",
    "\t-- 客户关系管理表\n",
    "\tselect crm_user_id, user_id\n",
    "\tfrom silver_ep.tb_crm_user_v\n",
    ")t2 on t1.userid = t2.user_id\n",
    "left join(\n",
    "\t-- 投顾给某一用户拨打电话的最早时间\n",
    "\tselect t.crm_user_id as crm_user_id, min(t.create_time) as create_time\n",
    "\tfrom (\n",
    "\tselect crm_user_id,create_time,worksec\n",
    "\tfrom silver_ep.tb_crm_tel_record_v\n",
    "\twhere crm_user_id is not null and crm_user_id <> -1 and worksec > 30\n",
    "\torder by crm_user_id, create_time asc)t\n",
    "\tgroup by t.crm_user_id\n",
    ")t3 on t2.crm_user_id = t3.crm_user_id\n",
    "left join(                                                                                                                                                                                                                                                                                                                                                                                                                                                                                                                                                                                                                                                                                                                                                                                                                                                                                                                                                                                                                                                                                                                                                                                                                                                                                                                                                                                                                                                                                                                                                                                                                                                                                                                                                                                                                                                                                                                                                                                                                                                                                                                                                                                                                                                                                                                                                                                                                                                                                                                                                                                                                                                                                                                                                                                                                                                                                                                                                                                                                                                                                                                                                                                                                                                                                                                                                                                                                                                                                                                                                                                                                                                                                                                                                                                                                                                                                                                                                                                                                                                                                                                                                                                                                                                                                                                                                                                                                                                                                                                                                                                                                                                                                                                                                                                                                                                                                                                                                                                                                                                                                                                                                                                                                                                                                                                                         \n",
    "\t\t-- hht用户出入金情况表\n",
    "\t\tselect firm_id, inorout, inoutmoney, realdate\n",
    "\t\tfrom silver_ep.history_transfer_v\n",
    "\t\twhere partnerid = 'hht'\n",
    ")t4 on t1.firm_id = t4.firm_id \n",
    "where (t3.create_time > t4.realdate or t3.create_time is null)\n",
    ") aa\n",
    "group by aa.user_name,aa.inorout"
   ]
  },
  {
   "cell_type": "code",
   "execution_count": 2,
   "metadata": {
    "collapsed": true
   },
   "outputs": [],
   "source": [
    "## 开户时预测的用户开户概率\n",
    "infile= 'firstmodel_prob20170101_20170531.csv'\n",
    "prob_df = pd.read_csv(infile)\n",
    "prob_df.columns = ['user_name',  'userid', 'firm_id','partner_id', 'highvaluepro']\n",
    "print prob_df.user_name.is_unique\n",
    "\n",
    "## 在两个交易所都开户的用户user_name: tmp1\n",
    "tmp1 = prob_df.ix[prob_df.user_name.isin(prob_df.ix[prob_df.user_name.duplicated(), 'user_name'])] \n",
    "tmp1['highvaluepro'].fillna(0, inplace= True)"
   ]
  },
  {
   "cell_type": "code",
   "execution_count": 3,
   "metadata": {},
   "outputs": [
    {
     "data": {
      "text/plain": [
       "13835.0"
      ]
     },
     "execution_count": 3,
     "metadata": {},
     "output_type": "execute_result"
    }
   ],
   "source": [
    "tmp1.shape[0]/2.0"
   ]
  },
  {
   "cell_type": "code",
   "execution_count": 4,
   "metadata": {},
   "outputs": [
    {
     "data": {
      "text/plain": [
       "(258835, 3)"
      ]
     },
     "execution_count": 4,
     "metadata": {},
     "output_type": "execute_result"
    }
   ],
   "source": [
    "# tmp2：在两个交易所开户且都预测的用户，其概率为两者的最大值\n",
    "tmp2 = tmp1.groupby(['user_name', 'userid'])['highvaluepro'].max().reset_index()\n",
    "#prob_df： 在两个交易所开户 与 只在一个交易所开户的用户\n",
    "prob_df = pd.concat([tmp2, prob_df.ix[~prob_df.user_name.isin(tmp2.user_name), ['user_name', 'userid', 'highvaluepro']]], axis= 0) \n",
    "\n",
    "# 将预测开单概率从高到低排序\n",
    "prob_df.sort_index(by= ['highvaluepro'], ascending= False, inplace= True)\n",
    "print prob_df.user_name.is_unique\n",
    "prob_df.shape"
   ]
  },
  {
   "cell_type": "code",
   "execution_count": 5,
   "metadata": {},
   "outputs": [
    {
     "data": {
      "text/plain": [
       "(258835, 4)"
      ]
     },
     "execution_count": 5,
     "metadata": {},
     "output_type": "execute_result"
    }
   ],
   "source": [
    "## history_most\n",
    "history_most = pd.read_csv('history_most.csv')\n",
    "df = pd.merge(prob_df, history_most[['user_name', 'history_most']], left_on= 'user_name', right_on= 'user_name', how= 'left')\n",
    "df['history_most'].fillna(0, inplace= True)\n",
    "df.shape"
   ]
  },
  {
   "cell_type": "code",
   "execution_count": 6,
   "metadata": {},
   "outputs": [],
   "source": [
    "## 自然入金情况\n",
    "infile = 'nature_inmoney.csv'\n",
    "read_df = pd.read_csv(infile)\n",
    "nature_inmoney = read_df[['user_name', 'inorout', 'inoutmoney']]\n",
    "tmp_df = pd.merge(df, nature_inmoney.ix[nature_inmoney.inorout == 'A'], left_on= 'user_name', right_on= 'user_name', how= 'left')\n",
    "\n",
    "\n",
    "tmp_df['inorout'] = tmp_df['inorout'].fillna('A') # 填充inorout缺失的情况\n",
    "tmp_df['inoutmoney'].fillna(0, inplace= True)\n",
    "df = tmp_df.ix[tmp_df.inorout == 'A']"
   ]
  },
  {
   "cell_type": "code",
   "execution_count": 7,
   "metadata": {},
   "outputs": [
    {
     "data": {
      "text/plain": [
       "True"
      ]
     },
     "execution_count": 7,
     "metadata": {},
     "output_type": "execute_result"
    }
   ],
   "source": [
    "## 打标签，最高历史净入金超过5w的是1\n",
    "df['label'] = np.zeros((df.shape[0], 1))\n",
    "mask = df.history_most >= 50000\n",
    "df.ix[mask, 'label'] = 1\n",
    "df.user_name.is_unique"
   ]
  },
  {
   "cell_type": "code",
   "execution_count": 8,
   "metadata": {},
   "outputs": [],
   "source": [
    "## df是估计过开户概率的用户\n",
    "df.ix[df.highvaluepro.isnull()].to_csv(r'没打标签的人.csv', index= False)\n",
    "df = df.ix[df.highvaluepro.notnull()] # 有一部分人概率是null，去除"
   ]
  },
  {
   "cell_type": "code",
   "execution_count": 9,
   "metadata": {},
   "outputs": [
    {
     "data": {
      "image/png": "[encoded data removed]",
      "text/plain": [
       "<matplotlib.figure.Figure at 0x16a4cf98>"
      ]
     },
     "metadata": {},
     "output_type": "display_data"
    }
   ],
   "source": [
    "## 静态模型和召回模型的召回率曲线，很好用！！！！！\n",
    "# 注：只要得到用户的开户概率，就可以用下面这段求召回率。开户概率可以是表mining_ep.tb_feature中，也可以是新模型预测出来的。\n",
    "recall_static = []\n",
    "new_per = []\n",
    "recall = []\n",
    "\n",
    "money= 50\n",
    "\n",
    "for per in range(10, 110, 10):\n",
    "    th = df.iloc[int(np.percentile(range(df.shape[0]),per)), 2]  # 注：‘2’是开户概率的列号，概率已从大到小排序\n",
    "    print 'th:', th\n",
    "    mask = df.highvaluepro >= th\n",
    "\n",
    "    high_rec = df.ix[mask, 'label'].sum() / np.float(df['label'].sum())\n",
    "    recall_static.append(high_rec)\n",
    "\n",
    "    # 低价值用户中自然入金超过50的，召回为高价值用户\n",
    "\n",
    "    new_per.append(per + 100 * df.ix[(~mask) & (df['inoutmoney'] >= money)].shape[0] / np.float(df.shape[0]))\n",
    "\n",
    "    low_rec = df.ix[(~mask) & (df['inoutmoney'] >= money), 'label'].sum() / np.float(df['label'].sum())\n",
    "    recall.append(high_rec + low_rec)\n",
    "\n",
    "import matplotlib.pyplot as plt\n",
    "import seaborn\n",
    "fig = plt.figure(figsize= (10, 8))\n",
    "plt.plot(range(10, 110, 10), recall_static, '--')\n",
    "plt.plot(new_per, recall, 'r')\n",
    "\n",
    "plt.title('全量-召回率', {'fontsize': 15})\n",
    "plt.legend(['static', 'recall(>= 50)'])\n",
    "plt.xlabel('per', {'fontsize': 12})\n",
    "plt.ylabel('recall', {'fontsize': 12})\n",
    "plt.savefig(r'C:\\Users\\bjwangwenhui\\Desktop\\results\\recall.jpg')\n",
    "plt.show()"
   ]
  },
  {
   "cell_type": "code",
   "execution_count": 10,
   "metadata": {},
   "outputs": [],
   "source": [
    "#### 《召回率》表格中的数据\n",
    "per = 26.9\n",
    "th = df.iloc[int(np.percentile(range(df.shape[0]),per)), 2]\n",
    "print 'th:', th  # 概率阈值\n",
    "\n",
    "mask = df.highvaluepro >= th\n",
    "\n",
    "print 'high value customers number:', mask.sum()  # 高价值用户数\n",
    "\n",
    "high_rec = df.ix[mask, 'label'].sum() / np.float(df['label'].sum())\n",
    "print 'high value kaidan people number:', df.ix[mask, 'label'].sum()  # 高价值中开单的人数\n",
    "print 'high_rec:', high_rec   # 静态模型的召回率\n",
    "\n",
    "# 低价值用户中自然入金超过50的，召回为高价值用户\n",
    "\n",
    "money = 50\n",
    "print 'new_per', per + df.ix[(~mask) & (df['inoutmoney'] >= money)].shape[0] / np.float(df.shape[0]) * 100  # 考虑自然入金后，总的高价值人数占比\n",
    "print 'consider add people number:', df.ix[(~mask) & (df['inoutmoney'] >= money)].shape[0]   # 考虑自然入金后，增加的高价值人数\n",
    "\n",
    "low_rec = df.ix[(~mask) & (df['inoutmoney'] >= money), 'label'].sum() / np.float(df['label'].sum())\n",
    "\n",
    "print 'consider add kaidan people number:', df.ix[(~mask) & (df['inoutmoney'] >= money), 'label'].sum() # 考虑自然入金后，增加的开单人数\n",
    "print 'new_rec:', high_rec + low_rec # 新的召回率"
   ]
  },
  {
   "cell_type": "code",
   "execution_count": 12,
   "metadata": {},
   "outputs": [
    {
     "data": {
      "image/png": "[encoded data removed]",
      "text/plain": [
       "<matplotlib.figure.Figure at 0x17375fd0>"
      ]
     },
     "metadata": {},
     "output_type": "display_data"
    }
   ],
   "source": [
    "### 考虑进入crm系统的用户的召回率\n",
    "crm_user = pd.read_csv('crm_user_name.csv')  # 这张表只有一列，silver_ep.tb_crm_user_v全部用户的user_name\n",
    "crm_df = pd.merge(df, crm_user, left_on= 'user_name', right_on= 'user_name', how= 'inner') # 关联\n",
    "## 静态模型的召回率\n",
    "recall_static = []\n",
    "new_per = []\n",
    "recall = []\n",
    "\n",
    "money= 50\n",
    "\n",
    "for per in range(10, 110, 10):\n",
    "    th = df.iloc[int(np.percentile(range(df.shape[0]),per)), 2]\n",
    "    print 'th:', th\n",
    "    mask = df.highvaluepro >= th\n",
    "\n",
    "    high_rec = df.ix[mask, 'label'].sum() / np.float(df['label'].sum())\n",
    "    recall_static.append(high_rec)\n",
    "\n",
    "    # 低价值用户中自然入金超过50的，召回为高价值用户\n",
    "\n",
    "    new_per.append(per + 100 * df.ix[(~mask) & (df['inoutmoney'] >= money)].shape[0] / np.float(df.shape[0]))\n",
    "\n",
    "    low_rec = df.ix[(~mask) & (df['inoutmoney'] >= money), 'label'].sum() / np.float(df['label'].sum())\n",
    "    recall.append(high_rec + low_rec)\n",
    "    \n",
    "import matplotlib.pyplot as plt\n",
    "import seaborn\n",
    "fig = plt.figure(figsize= (10, 8))\n",
    "plt.plot(range(10, 110, 10), recall_static, '--')\n",
    "plt.plot(new_per, recall, 'r')\n",
    "\n",
    "plt.title('crm-召回率', {'fontsize': 15})\n",
    "plt.legend(['static', 'recall(>= 50)'])\n",
    "plt.xlabel('per', {'fontsize': 12})\n",
    "plt.ylabel('recall', {'fontsize': 12})\n",
    "plt.savefig(r'C:\\Users\\bjwangwenhui\\Desktop\\results\\crm_recall.jpg')\n",
    "plt.show()"
   ]
  },
  {
   "cell_type": "code",
   "execution_count": 13,
   "metadata": {
    "collapsed": true
   },
   "outputs": [],
   "source": [
    "# ### 考虑进入crm系统的用户的召回率，《召回率》表格中的值\n",
    "# per = 26.9  # 概率排名占比\n",
    "# th = df.iloc[int(np.percentile(range(df.shape[0]),per)), 2] # 阈值\n",
    "# print 'th:', th\n",
    "\n",
    "# mask = df.highvaluepro >= th\n",
    "\n",
    "# print 'high value customers number:', mask.sum()\n",
    "\n",
    "# high_rec = df.ix[mask, 'label'].sum() / np.float(df['label'].sum())\n",
    "# print 'high value kaidan people number:', df.ix[mask, 'label'].sum()\n",
    "# print 'high_rec:', high_rec\n",
    "\n",
    "# # 低价值用户中自然入金超过50的，召回为高价值用户\n",
    "\n",
    "# money = 50\n",
    "# print 'new_per', per + df.ix[(~mask) & (df['inoutmoney'] >= money)].shape[0] / np.float(df.shape[0]) * 100\n",
    "# print 'consider add people number:', df.ix[(~mask) & (df['inoutmoney'] >= money)].shape[0]\n",
    "\n",
    "# low_rec = df.ix[(~mask) & (df['inoutmoney'] >= money), 'label'].sum() / np.float(df['label'].sum())\n",
    "\n",
    "# print 'consider add kaidan people number:', df.ix[(~mask) & (df['inoutmoney'] >= money), 'label'].sum()\n",
    "# print 'new_rec:', high_rec + low_rec"
   ]
  },
  {
   "cell_type": "code",
   "execution_count": null,
   "metadata": {
    "collapsed": true
   },
   "outputs": [],
   "source": []
  }
 ],
 "metadata": {
  "kernelspec": {
   "display_name": "Python 2",
   "language": "python",
   "name": "python2"
  },
  "language_info": {
   "codemirror_mode": {
    "name": "ipython",
    "version": 2
   },
   "file_extension": ".py",
   "mimetype": "text/x-python",
   "name": "python",
   "nbconvert_exporter": "python",
   "pygments_lexer": "ipython2",
   "version": "2.7.9"
  }
 },
 "nbformat": 4,
 "nbformat_minor": 2
}
